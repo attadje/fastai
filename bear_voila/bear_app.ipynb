{
 "cells": [
  {
   "cell_type": "markdown",
   "metadata": {},
   "source": [
    "# How to create an app from a jupyter notebook"
   ]
  },
  {
   "cell_type": "code",
   "execution_count": 1,
   "metadata": {},
   "outputs": [],
   "source": [
    "from ipywidgets import widgets\n",
    "from ipywidgets import VBox"
   ]
  },
  {
   "cell_type": "code",
   "execution_count": 3,
   "metadata": {},
   "outputs": [
    {
     "data": {
      "application/vnd.jupyter.widget-view+json": {
       "model_id": "181654b828d24a69883f9de7d8680faf",
       "version_major": 2,
       "version_minor": 0
      },
      "text/plain": [
       "FileUpload(value={}, accept='image/*', description='Upload')"
      ]
     },
     "metadata": {},
     "output_type": "display_data"
    }
   ],
   "source": [
    "btn_upload = widgets.FileUpload(\n",
    "    accept='image/*', \n",
    "    multiple=False     \n",
    ")\n",
    "btn_upload"
   ]
  },
  {
   "cell_type": "code",
   "execution_count": 5,
   "metadata": {},
   "outputs": [
    {
     "data": {
      "application/vnd.jupyter.widget-view+json": {
       "model_id": "b0ebc144d5254097bc6c4af6acd264a3",
       "version_major": 2,
       "version_minor": 0
      },
      "text/plain": [
       "Button(description='get the image name', style=ButtonStyle())"
      ]
     },
     "metadata": {},
     "output_type": "display_data"
    }
   ],
   "source": [
    "# Create the button to get the file\n",
    "btn_run = widgets.Button(description='get the image name')\n",
    "btn_run   "
   ]
  },
  {
   "cell_type": "code",
   "execution_count": 6,
   "metadata": {},
   "outputs": [
    {
     "data": {
      "application/vnd.jupyter.widget-view+json": {
       "model_id": "d0889d689824438588aa6185bd36901e",
       "version_major": 2,
       "version_minor": 0
      },
      "text/plain": [
       "Label(value='The name of the file is: 2010-kodiak-bear-1.jpg')"
      ]
     },
     "metadata": {},
     "output_type": "display_data"
    }
   ],
   "source": [
    "# Create the label to show the name of the file\n",
    "lbl_img = widgets.Label()\n",
    "file_name = btn_upload.metadata[0]['name']\n",
    "lbl_img.value = f'The name of the file is: {file_name}'\n",
    "lbl_img"
   ]
  },
  {
   "cell_type": "code",
   "execution_count": 7,
   "metadata": {},
   "outputs": [],
   "source": [
    "# Create the function to get the name from the file and display the name to the user\n",
    "def on_click_show_name_file(change):\n",
    "    print('hello')\n",
    "    file_name = btn_upload.metadata[0]['name']\n",
    "    lbl_img.value = f'The name of the file is: {file_name}'\n",
    "\n",
    "btn_run.on_click(on_click_show_name_file)"
   ]
  },
  {
   "cell_type": "code",
   "execution_count": 9,
   "metadata": {},
   "outputs": [
    {
     "data": {
      "application/vnd.jupyter.widget-view+json": {
       "model_id": "041728dfeca14acaba84fd133522c679",
       "version_major": 2,
       "version_minor": 0
      },
      "text/plain": [
       "VBox(children=(Label(value='Select your image file!'), FileUpload(value={'2010-kodiak-bear-1.jpg': {'metadata'…"
      ]
     },
     "metadata": {},
     "output_type": "display_data"
    }
   ],
   "source": [
    "VBox([widgets.Label('Select your image file!'), \n",
    "btn_upload, btn_run, lbl_img])"
   ]
  },
  {
   "cell_type": "code",
   "execution_count": 11,
   "metadata": {},
   "outputs": [
    {
     "name": "stdout",
     "output_type": "stream",
     "text": [
      "Enabling: voila\n",
      "- Writing config: /Library/Frameworks/Python.framework/Versions/3.8/etc/jupyter\n",
      "    - Validating...\n",
      "Error loading server extension voila\n",
      "     \u001b[31m X\u001b[0m is voila importable?\n"
     ]
    }
   ],
   "source": [
    "!jupyter serverextension enable --sys-prefix voila"
   ]
  },
  {
   "cell_type": "code",
   "execution_count": 12,
   "metadata": {},
   "outputs": [
    {
     "name": "stdout",
     "output_type": "stream",
     "text": [
      "Python 3.10.6\n"
     ]
    }
   ],
   "source": [
    "! python --version"
   ]
  },
  {
   "cell_type": "code",
   "execution_count": 13,
   "metadata": {},
   "outputs": [
    {
     "name": "stdout",
     "output_type": "stream",
     "text": [
      "0.5.7\n"
     ]
    }
   ],
   "source": [
    "! python -c \"import voila; print(voila.__version__)\""
   ]
  },
  {
   "cell_type": "code",
   "execution_count": 14,
   "metadata": {},
   "outputs": [
    {
     "name": "stdout",
     "output_type": "stream",
     "text": [
      "Config dir: /Users/djessy/.jupyter\n",
      "\n",
      "Config dir: /Users/djessy/Desktop/AI Projects/bear_detection/env_py_3.10/etc/jupyter\n",
      "    jupyter_server_terminals \u001b[32menabled\u001b[0m\n",
      "    - Validating jupyter_server_terminals...\n",
      "      jupyter_server_terminals 0.5.3 \u001b[32mOK\u001b[0m\n",
      "    voila.server_extension \u001b[32menabled\u001b[0m\n",
      "    - Validating voila.server_extension...\n",
      "Extension package voila.server_extension took 0.1572s to import\n",
      "      voila.server_extension  \u001b[32mOK\u001b[0m\n",
      "\n",
      "Config dir: /usr/local/etc/jupyter\n",
      "\n"
     ]
    }
   ],
   "source": [
    "! jupyter server extension list\n"
   ]
  },
  {
   "cell_type": "code",
   "execution_count": 15,
   "metadata": {},
   "outputs": [
    {
     "name": "stdout",
     "output_type": "stream",
     "text": []
    },
    {
     "name": "stdout",
     "output_type": "stream",
     "text": [
      "Failed to fetch package metadata for '@voila-dashboards/jupyterlab-preview': URLError(SSLCertVerificationError(1, '[SSL: CERTIFICATE_VERIFY_FAILED] certificate verify failed: unable to get local issuer certificate (_ssl.c:1108)'))\n",
      "Failed to fetch package metadata for '@voila-dashboards/jupyterlab-preview': URLError(SSLCertVerificationError(1, '[SSL: CERTIFICATE_VERIFY_FAILED] certificate verify failed: unable to get local issuer certificate (_ssl.c:1108)'))\n",
      "An error occurred.\n",
      "ValueError: No version of @voila-dashboards/jupyterlab-preview could be found that is compatible with the current version of JupyterLab.\n",
      "\n",
      "Conflicting Dependencies:\n",
      "JupyterLab                  Extension        Package\n",
      ">=3.1.17 <3.2.0             >=4.0.0 <5.0.0   @jupyterlab/application\n",
      ">=3.1.17 <3.2.0             >=4.0.0 <5.0.0   @jupyterlab/apputils\n",
      ">=5.1.17 <5.2.0             >=6.0.0 <7.0.0   @jupyterlab/coreutils\n",
      ">=3.1.17 <3.2.0             >=4.0.0 <5.0.0   @jupyterlab/fileeditor\n",
      ">=3.1.17 <3.2.0             >=4.0.0 <5.0.0   @jupyterlab/mainmenu\n",
      ">=3.1.17 <3.2.0             >=4.0.0 <5.0.0   @jupyterlab/notebook\n",
      ">=3.1.17 <3.2.0             >=4.0.0 <5.0.0   @jupyterlab/settingregistry\n",
      ">=3.1.17 <3.2.0             >=4.0.0 <5.0.0   @jupyterlab/ui-components\n",
      ">=1.5.3 <2.0.0              >=2.0.0 <3.0.0   @lumino/coreutils\n",
      ">=1.4.3 <2.0.0              >=2.0.0 <3.0.0   @lumino/signaling\n",
      ">=17.0.1 <18.0.0            >=18.2.0 <19.0.0 react\n",
      ">=17.0.1 <18.0.0            >=18.2.0 <19.0.0 react-dom\n",
      "See the log file for details:  /var/folders/8l/fhjgz7h10zq_wlvzwlxhwdjh0000gn/T/jupyterlab-debug-ipkf4qwd.log\n"
     ]
    }
   ],
   "source": [
    "! jupyter labextension install @voila-dashboards/jupyterlab-preview"
   ]
  },
  {
   "cell_type": "code",
   "execution_count": null,
   "metadata": {},
   "outputs": [],
   "source": []
  }
 ],
 "metadata": {
  "kernelspec": {
   "display_name": "Python 3 (ipykernel)",
   "language": "python",
   "name": "python3"
  },
  "language_info": {
   "codemirror_mode": {
    "name": "ipython",
    "version": 3
   },
   "file_extension": ".py",
   "mimetype": "text/x-python",
   "name": "python",
   "nbconvert_exporter": "python",
   "pygments_lexer": "ipython3",
   "version": "3.10.14"
  }
 },
 "nbformat": 4,
 "nbformat_minor": 4
}
